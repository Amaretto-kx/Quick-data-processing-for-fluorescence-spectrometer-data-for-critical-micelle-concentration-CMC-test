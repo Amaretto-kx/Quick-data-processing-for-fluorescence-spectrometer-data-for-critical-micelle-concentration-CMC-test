{
 "cells": [
  {
   "cell_type": "markdown",
   "id": "5b1e381c",
   "metadata": {},
   "source": [
    "# This is for multiple data (triplicate)"
   ]
  },
  {
   "cell_type": "markdown",
   "id": "943f95f7",
   "metadata": {},
   "source": [
    "## The final CMC was calculated by the average of each ratio"
   ]
  },
  {
   "cell_type": "code",
   "execution_count": 2,
   "id": "1af046b0",
   "metadata": {},
   "outputs": [],
   "source": [
    "import pandas as pd\n",
    "import numpy as np\n",
    "import matplotlib.pyplot as plt\n",
    "import glob, os\n",
    "from collections import defaultdict\n",
    "from sklearn.linear_model import LinearRegression"
   ]
  },
  {
   "cell_type": "code",
   "execution_count": 3,
   "id": "a3840145",
   "metadata": {},
   "outputs": [],
   "source": [
    "def read_labsolutions_file(file_path):\n",
    "    with open(file_path, encoding=\"utf-8\") as f:\n",
    "        lines = f.readlines()\n",
    "\n",
    "    start_idx = None\n",
    "    for i, line in enumerate(lines):\n",
    "        if line.strip().startswith('\"Wavelength nm.\"'):\n",
    "            start_idx = i\n",
    "            break\n",
    "\n",
    "    df = pd.read_csv(file_path, skiprows=start_idx, header=0)\n",
    "    return df"
   ]
  },
  {
   "cell_type": "code",
   "execution_count": 4,
   "id": "842c0507",
   "metadata": {},
   "outputs": [],
   "source": [
    "root = r\"TYPE IN YOUR ROOT OF FOLDER HERE, THE ROOT SHOULD ONLY HAVE 3 FOLDERS\" # Input your root here\n",
    "folders = sorted([f for f in glob.glob(os.path.join(root, \"*\")) if os.path.isdir(f)])\n",
    "\n",
    "results = defaultdict(dict)\n",
    "for i, folder in enumerate(folders, start=1):\n",
    "    rep = f\"rep{i}\" \n",
    "    all_files = glob.glob(os.path.join(folder, \"*.txt\"))\n",
    "\n",
    "    for file in all_files:\n",
    "        filename = os.path.basename(file)\n",
    "        name = filename.replace(\".txt\", \"\").replace(\"(\", \"\").replace(\")\", \"\").strip()\n",
    "        try:\n",
    "            conc = float(name)\n",
    "            df = read_labsolutions_file(file)\n",
    "            results[rep][conc] = df\n",
    "        except ValueError:\n",
    "            print(f\"No conc detected: {filename}\")\n"
   ]
  },
  {
   "cell_type": "code",
   "execution_count": 5,
   "id": "25fa8e01",
   "metadata": {},
   "outputs": [],
   "source": [
    "def format_conc(val):\n",
    "    return ('{:.4f}'.format(val)).rstrip('0').rstrip('.')\n",
    "for rep, conc_dict in results.items():\n",
    "    plt.figure(figsize=(8, 5))\n",
    "    for conc, df in sorted(conc_dict.items()):\n",
    "        x = df.iloc[:, 0].to_numpy()\n",
    "        y = df.iloc[:, 1].to_numpy()\n",
    "        mask = (x >= 350) & (x <= 600)\n",
    "        plt.plot(x[mask], y[mask], label=f\"{format_conc(conc)} mg/mL\")\n",
    "    plt.xlabel(\"Wavelength (nm)\")\n",
    "    plt.ylabel(\"Intensity\")\n",
    "    plt.legend(frameon=False)\n",
    "    plt.show()"
   ]
  },
  {
   "cell_type": "code",
   "execution_count": 6,
   "id": "8fcb93a3",
   "metadata": {},
   "outputs": [],
   "source": [
    "ratios = defaultdict(list)  # ratios[conc] = [rep1_ratio, rep2_ratio, rep3_ratio]\n",
    "\n",
    "for rep, conc_dict in results.items():\n",
    "    for conc, df in conc_dict.items():\n",
    "        try:\n",
    "            intensity_384 = df.iloc[:,1][df.iloc[:,0]==384].values[0]\n",
    "            intensity_373 = df.iloc[:,1][df.iloc[:,0]==373].values[0]\n",
    "            ratio = intensity_384 / intensity_373\n",
    "            ratios[conc].append(ratio)\n",
    "        except IndexError:\n",
    "            print(f\"⚠️ {rep} {conc} nm No data points for 384 or 373 found\")\n"
   ]
  },
  {
   "cell_type": "code",
   "execution_count": 7,
   "id": "d501f0cb",
   "metadata": {},
   "outputs": [
    {
     "data": {
      "image/png": "[encoded data removed]",
      "text/plain": [
       "<Figure size 700x500 with 1 Axes>"
      ]
     },
     "metadata": {},
     "output_type": "display_data"
    }
   ],
   "source": [
    "concs = sorted(ratios.keys())\n",
    "x = np.log(concs)                  # x axis in log ver. if you dont want, just delete it\n",
    "y = [np.mean(ratios[c]) for c in concs]\n",
    "\n",
    "plt.figure(figsize=(7,5))\n",
    "plt.scatter(x, y, color=\"blue\", s=80, label=\"Average ratio\")\n",
    "plt.xlabel(\"log(Concentration, mg/mL)\")\n",
    "plt.ylabel(\"Ratio (384/373)\")\n",
    "plt.title(\"CMC curve (averaged triplicates)\")\n",
    "plt.legend()\n",
    "plt.show()"
   ]
  },
  {
   "cell_type": "code",
   "execution_count": 8,
   "id": "451675b2",
   "metadata": {},
   "outputs": [
    {
     "ename": "TypeError",
     "evalue": "cannot unpack non-iterable NoneType object",
     "output_type": "error",
     "traceback": [
      "\u001b[1;31m---------------------------------------------------------------------------\u001b[0m",
      "\u001b[1;31mTypeError\u001b[0m                                 Traceback (most recent call last)",
      "Cell \u001b[1;32mIn[8], line 35\u001b[0m\n\u001b[0;32m     32\u001b[0m x \u001b[38;5;241m=\u001b[39m np\u001b[38;5;241m.\u001b[39mlog(concs)\n\u001b[0;32m     33\u001b[0m y \u001b[38;5;241m=\u001b[39m np\u001b[38;5;241m.\u001b[39marray([np\u001b[38;5;241m.\u001b[39mmean(ratios[c]) \u001b[38;5;28;01mfor\u001b[39;00m c \u001b[38;5;129;01min\u001b[39;00m concs])\n\u001b[1;32m---> 35\u001b[0m cmc, split_idx, (reg1, reg2, x_cmc) \u001b[38;5;241m=\u001b[39m \u001b[43mfind_cmc_auto\u001b[49m\u001b[43m(\u001b[49m\u001b[43mx\u001b[49m\u001b[43m,\u001b[49m\u001b[43m \u001b[49m\u001b[43my\u001b[49m\u001b[43m)\u001b[49m\n\u001b[0;32m     37\u001b[0m \u001b[38;5;28mprint\u001b[39m(\u001b[38;5;124mf\u001b[39m\u001b[38;5;124m\"\u001b[39m\u001b[38;5;124mBest split point: \u001b[39m\u001b[38;5;132;01m{\u001b[39;00msplit_idx\u001b[38;5;132;01m}\u001b[39;00m\u001b[38;5;124m\"\u001b[39m)\n\u001b[0;32m     38\u001b[0m \u001b[38;5;28mprint\u001b[39m(\u001b[38;5;124mf\u001b[39m\u001b[38;5;124m\"\u001b[39m\u001b[38;5;124mCalculated CMC ≈ \u001b[39m\u001b[38;5;132;01m{\u001b[39;00mcmc\u001b[38;5;132;01m:\u001b[39;00m\u001b[38;5;124m.4f\u001b[39m\u001b[38;5;132;01m}\u001b[39;00m\u001b[38;5;124m mg/mL\u001b[39m\u001b[38;5;124m\"\u001b[39m)\n",
      "Cell \u001b[1;32mIn[8], line 23\u001b[0m, in \u001b[0;36mfind_cmc_auto\u001b[1;34m(x, y, min_points)\u001b[0m\n\u001b[0;32m     20\u001b[0m         best_split \u001b[38;5;241m=\u001b[39m split_idx\n\u001b[0;32m     21\u001b[0m         best_models \u001b[38;5;241m=\u001b[39m (reg1, reg2)\n\u001b[1;32m---> 23\u001b[0m reg1, reg2 \u001b[38;5;241m=\u001b[39m best_models\n\u001b[0;32m     24\u001b[0m m1, b1 \u001b[38;5;241m=\u001b[39m reg1\u001b[38;5;241m.\u001b[39mcoef_[\u001b[38;5;241m0\u001b[39m], reg1\u001b[38;5;241m.\u001b[39mintercept_\n\u001b[0;32m     25\u001b[0m m2, b2 \u001b[38;5;241m=\u001b[39m reg2\u001b[38;5;241m.\u001b[39mcoef_[\u001b[38;5;241m0\u001b[39m], reg2\u001b[38;5;241m.\u001b[39mintercept_\n",
      "\u001b[1;31mTypeError\u001b[0m: cannot unpack non-iterable NoneType object"
     ]
    }
   ],
   "source": [
    "def find_cmc_auto(x, y, min_points=3):\n",
    "\n",
    "    best_err = np.inf\n",
    "    best_split = None\n",
    "    best_models = None\n",
    "\n",
    "    for split_idx in range(min_points, len(x) - min_points):\n",
    "        x1, y1 = x[:split_idx].reshape(-1,1), y[:split_idx]\n",
    "        x2, y2 = x[split_idx:].reshape(-1,1), y[split_idx:]\n",
    "\n",
    "        reg1 = LinearRegression().fit(x1, y1)\n",
    "        reg2 = LinearRegression().fit(x2, y2)\n",
    "\n",
    "        y1_pred = reg1.predict(x1)\n",
    "        y2_pred = reg2.predict(x2)\n",
    "        err = np.sum((y1 - y1_pred)**2) + np.sum((y2 - y2_pred)**2)\n",
    "\n",
    "        if err < best_err:\n",
    "            best_err = err\n",
    "            best_split = split_idx\n",
    "            best_models = (reg1, reg2)\n",
    "\n",
    "    reg1, reg2 = best_models\n",
    "    m1, b1 = reg1.coef_[0], reg1.intercept_\n",
    "    m2, b2 = reg2.coef_[0], reg2.intercept_\n",
    "\n",
    "    x_cmc = (b2 - b1) / (m1 - m2)\n",
    "    cmc = np.exp(x_cmc)\n",
    "\n",
    "    return cmc, best_split, (reg1, reg2, x_cmc)\n",
    "\n",
    "x = np.log(concs)\n",
    "y = np.array([np.mean(ratios[c]) for c in concs])\n",
    "\n",
    "cmc, split_idx, (reg1, reg2, x_cmc) = find_cmc_auto(x, y)\n",
    "\n",
    "print(f\"Best split point: {split_idx}\")\n",
    "print(f\"Calculated CMC ≈ {cmc:.4f} mg/mL\")\n",
    "\n",
    "plt.figure(figsize=(7,5))\n",
    "plt.scatter(x, y, color=\"blue\", s=80, label=\"Average ratio\")\n",
    "\n",
    "\n",
    "xx_all = np.linspace(min(x), max(x), 200).reshape(-1,1)\n",
    "\n",
    "# Red line\n",
    "yy1 = reg1.predict(xx_all)\n",
    "plt.plot(xx_all, yy1, 'r--', label=\"low conc fit\")\n",
    "\n",
    "# Green line\n",
    "yy2 = reg2.predict(xx_all)\n",
    "plt.plot(xx_all, yy2, 'g--', label=\"high conc fit\")\n",
    "\n",
    "# Intercept\n",
    "plt.scatter([x_cmc], [reg1.predict([[x_cmc]])], color=\"red\", zorder=5, label=\"CMC\")\n",
    "\n",
    "plt.xlabel(\"log Concentration mg/mL$^{-1}$\")\n",
    "plt.ylabel(\"Ratio (384/373)\")\n",
    "plt.title(\"CMC determination\")\n",
    "plt.legend(frameon=False)\n",
    "plt.show()"
   ]
  }
 ],
 "metadata": {
  "kernelspec": {
   "display_name": "analysis",
   "language": "python",
   "name": "python3"
  },
  "language_info": {
   "codemirror_mode": {
    "name": "ipython",
    "version": 3
   },
   "file_extension": ".py",
   "mimetype": "text/x-python",
   "name": "python",
   "nbconvert_exporter": "python",
   "pygments_lexer": "ipython3",
   "version": "3.10.18"
  }
 },
 "nbformat": 4,
 "nbformat_minor": 5
}
